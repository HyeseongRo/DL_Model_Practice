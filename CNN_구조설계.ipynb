{
  "nbformat": 4,
  "nbformat_minor": 0,
  "metadata": {
    "colab": {
      "provenance": [],
      "mount_file_id": "1RW683Z-GWDJrv02L0E4y49XnjrNDrBhu",
      "authorship_tag": "ABX9TyPakNv26KPT7jJCXL+XiLg7",
      "include_colab_link": true
    },
    "kernelspec": {
      "name": "python3",
      "display_name": "Python 3"
    },
    "language_info": {
      "name": "python"
    }
  },
  "cells": [
    {
      "cell_type": "markdown",
      "metadata": {
        "id": "view-in-github",
        "colab_type": "text"
      },
      "source": [
        "<a href=\"https://colab.research.google.com/github/HyeseongRo/DL_Model_Practice/blob/main/CNN_%EA%B5%AC%EC%A1%B0%EC%84%A4%EA%B3%84.ipynb\" target=\"_parent\"><img src=\"https://colab.research.google.com/assets/colab-badge.svg\" alt=\"Open In Colab\"/></a>"
      ]
    },
    {
      "cell_type": "markdown",
      "source": [
        "# 손글씨 데이터 사용해서 CNN구조의 딥러닝 모델을 설계 및 학습해보자"
      ],
      "metadata": {
        "id": "kVDkU8q7PK8D"
      }
    },
    {
      "cell_type": "code",
      "source": [
        "import numpy as np\n",
        "import matplotlib.pyplot as plt\n",
        "from tensorflow.keras.datasets import mnist\n",
        "from tensorflow.keras.models import Sequential\n",
        "from tensorflow.keras.layers import Dense, Dropout, Flatten, Conv2D, MaxPooling2D, InputLayer\n",
        "from tensorflow.keras.optimizers import SGD, Adam\n",
        "from tensorflow.keras.callbacks import ModelCheckpoint, EarlyStopping\n",
        "from PIL import Image"
      ],
      "metadata": {
        "id": "nvyf_hFJP6nO"
      },
      "execution_count": 8,
      "outputs": []
    },
    {
      "cell_type": "code",
      "source": [
        "# 모델저장 객체 생성\n",
        "# 경로설정\n",
        "model_path = '/content/drive/MyDrive/Colab Notebooks/Practce_HandsOn_ML/model/model_{epoch:02d}_{val_accuracy:0.3f}.hdf5.keras'\n",
        "mcp = ModelCheckpoint(filepath=model_path, monitor='val_accuracy', verbose=1, save_best_only=True)"
      ],
      "metadata": {
        "id": "LpO7ADVVQXrF"
      },
      "execution_count": 9,
      "outputs": []
    },
    {
      "cell_type": "code",
      "source": [
        "# 조기중단 객체 생성\n",
        "early_stop = EarlyStopping(monitor='val_loss', patience=10, verbose=1)"
      ],
      "metadata": {
        "id": "ajpnQxToS0sf"
      },
      "execution_count": 10,
      "outputs": []
    },
    {
      "cell_type": "code",
      "source": [
        "# 데이터 불러오기\n",
        "(X_train, y_train), (X_test, y_test) = mnist.load_data()\n",
        "print(X_train.shape, y_train.shape)\n",
        "print(X_test.shape, y_test.shape)"
      ],
      "metadata": {
        "colab": {
          "base_uri": "https://localhost:8080/"
        },
        "id": "sHTOztgZS6yA",
        "outputId": "b318abe0-8fa3-4e71-b500-dd81d0f30a3a"
      },
      "execution_count": 11,
      "outputs": [
        {
          "output_type": "stream",
          "name": "stdout",
          "text": [
            "(60000, 28, 28) (60000,)\n",
            "(10000, 28, 28) (10000,)\n"
          ]
        }
      ]
    },
    {
      "cell_type": "code",
      "source": [
        "# 스케일 조정\n",
        "X_train = X_train.reshape(X_train.shape[0], 28, 28, 1).astype('float32')/255\n",
        "X_test = X_test.reshape(X_test.shape[0], 28, 28, 1).astype('float32')/255"
      ],
      "metadata": {
        "id": "niJ-Ju5VTCXa"
      },
      "execution_count": 12,
      "outputs": []
    },
    {
      "cell_type": "code",
      "source": [
        "# 신경망 모델 설계 CNN\n",
        "model = Sequential()\n",
        "\n",
        "# 입력층: Conv2D 레이어로 이미지 처리 (28x28 크기, 흑백 이미지)\n",
        "model.add(InputLayer(input_shape=(28, 28, 1))) # 1은 흑백 채널\n",
        "\n",
        "# 첫 번째 Conv 레이어: 32개의 필터, 3x3 커널, ReLU 활성화 함수\n",
        "model.add(Conv2D(32, (3, 3), activation='relu', padding='same'))\n",
        "\n",
        "# 첫 번째 MaxPooling 레이어: 2x2 맥스풀링\n",
        "model.add(MaxPooling2D(pool_size=(2, 2))) # 차원을 줄이기 위해 MaxPooling\n",
        "\n",
        "# 두 번째 Conv 레이어: 64개의 필터, 3x3 커널\n",
        "model.add(Conv2D(64, (3, 3), activation='relu', padding='same'))\n",
        "model.add(MaxPooling2D(pool_size=(2, 2)))\n",
        "\n",
        "# 세 번째 Conv 레이어: 128개의 필터, 3x3 커널\n",
        "model.add(Conv2D(128, (3, 3), activation='relu', padding='same'))\n",
        "model.add(MaxPooling2D(pool_size=(2, 2)))\n",
        "\n",
        "# Flatten 레이어: CNN에서 추출한 2D 특징맵을 1D 벡터로 변환\n",
        "model.add(Flatten())\n",
        "\n",
        "# 은닉층 (Dense 레이어)\n",
        "model.add(Dense(256, activation='relu'))\n",
        "model.add(Dense(128, activation='relu'))\n",
        "\n",
        "# 출력층 (Dense 레이어)\n",
        "model.add(Dense(10, activation='softmax'))"
      ],
      "metadata": {
        "colab": {
          "base_uri": "https://localhost:8080/"
        },
        "id": "O4vmb_scTVhx",
        "outputId": "539c1e35-d42b-49d4-9414-7c153ce3d74c"
      },
      "execution_count": 13,
      "outputs": [
        {
          "output_type": "stream",
          "name": "stderr",
          "text": [
            "/usr/local/lib/python3.10/dist-packages/keras/src/layers/core/input_layer.py:26: UserWarning: Argument `input_shape` is deprecated. Use `shape` instead.\n",
            "  warnings.warn(\n"
          ]
        }
      ]
    },
    {
      "cell_type": "code",
      "source": [
        "# 모델 학습 및 평가방법 설정\n",
        "model.compile(loss='sparse_categorical_crossentropy', optimizer='adam', metrics=['accuracy'])"
      ],
      "metadata": {
        "id": "FrMccGh2TdOJ"
      },
      "execution_count": 14,
      "outputs": []
    },
    {
      "cell_type": "code",
      "source": [
        "# 모델 학습\n",
        "model.fit(X_train, y_train, epochs=100, batch_size=32, validation_split=0.2, callbacks=[mcp, early_stop])"
      ],
      "metadata": {
        "colab": {
          "base_uri": "https://localhost:8080/"
        },
        "id": "phjoP0sIWrzH",
        "outputId": "f0dfc8b8-454a-40b1-c540-fa35069249fe"
      },
      "execution_count": 15,
      "outputs": [
        {
          "output_type": "stream",
          "name": "stdout",
          "text": [
            "Epoch 1/100\n",
            "\u001b[1m1500/1500\u001b[0m \u001b[32m━━━━━━━━━━━━━━━━━━━━\u001b[0m\u001b[37m\u001b[0m \u001b[1m0s\u001b[0m 61ms/step - accuracy: 0.8833 - loss: 0.3528\n",
            "Epoch 1: val_accuracy improved from -inf to 0.98358, saving model to /content/drive/MyDrive/Colab Notebooks/Practce_HandsOn_ML/model_01_0.984.hdf5.keras\n",
            "\u001b[1m1500/1500\u001b[0m \u001b[32m━━━━━━━━━━━━━━━━━━━━\u001b[0m\u001b[37m\u001b[0m \u001b[1m102s\u001b[0m 66ms/step - accuracy: 0.8833 - loss: 0.3526 - val_accuracy: 0.9836 - val_loss: 0.0534\n",
            "Epoch 2/100\n",
            "\u001b[1m1500/1500\u001b[0m \u001b[32m━━━━━━━━━━━━━━━━━━━━\u001b[0m\u001b[37m\u001b[0m \u001b[1m0s\u001b[0m 60ms/step - accuracy: 0.9856 - loss: 0.0458\n",
            "Epoch 2: val_accuracy improved from 0.98358 to 0.98750, saving model to /content/drive/MyDrive/Colab Notebooks/Practce_HandsOn_ML/model_02_0.988.hdf5.keras\n",
            "\u001b[1m1500/1500\u001b[0m \u001b[32m━━━━━━━━━━━━━━━━━━━━\u001b[0m\u001b[37m\u001b[0m \u001b[1m101s\u001b[0m 67ms/step - accuracy: 0.9856 - loss: 0.0458 - val_accuracy: 0.9875 - val_loss: 0.0425\n",
            "Epoch 3/100\n",
            "\u001b[1m1500/1500\u001b[0m \u001b[32m━━━━━━━━━━━━━━━━━━━━\u001b[0m\u001b[37m\u001b[0m \u001b[1m0s\u001b[0m 60ms/step - accuracy: 0.9900 - loss: 0.0308\n",
            "Epoch 3: val_accuracy improved from 0.98750 to 0.99025, saving model to /content/drive/MyDrive/Colab Notebooks/Practce_HandsOn_ML/model_03_0.990.hdf5.keras\n",
            "\u001b[1m1500/1500\u001b[0m \u001b[32m━━━━━━━━━━━━━━━━━━━━\u001b[0m\u001b[37m\u001b[0m \u001b[1m137s\u001b[0m 64ms/step - accuracy: 0.9900 - loss: 0.0308 - val_accuracy: 0.9902 - val_loss: 0.0325\n",
            "Epoch 4/100\n",
            "\u001b[1m1500/1500\u001b[0m \u001b[32m━━━━━━━━━━━━━━━━━━━━\u001b[0m\u001b[37m\u001b[0m \u001b[1m0s\u001b[0m 62ms/step - accuracy: 0.9934 - loss: 0.0240\n",
            "Epoch 4: val_accuracy did not improve from 0.99025\n",
            "\u001b[1m1500/1500\u001b[0m \u001b[32m━━━━━━━━━━━━━━━━━━━━\u001b[0m\u001b[37m\u001b[0m \u001b[1m145s\u001b[0m 66ms/step - accuracy: 0.9934 - loss: 0.0240 - val_accuracy: 0.9902 - val_loss: 0.0404\n",
            "Epoch 5/100\n",
            "\u001b[1m1500/1500\u001b[0m \u001b[32m━━━━━━━━━━━━━━━━━━━━\u001b[0m\u001b[37m\u001b[0m \u001b[1m0s\u001b[0m 61ms/step - accuracy: 0.9944 - loss: 0.0189\n",
            "Epoch 5: val_accuracy improved from 0.99025 to 0.99133, saving model to /content/drive/MyDrive/Colab Notebooks/Practce_HandsOn_ML/model_05_0.991.hdf5.keras\n",
            "\u001b[1m1500/1500\u001b[0m \u001b[32m━━━━━━━━━━━━━━━━━━━━\u001b[0m\u001b[37m\u001b[0m \u001b[1m99s\u001b[0m 66ms/step - accuracy: 0.9944 - loss: 0.0189 - val_accuracy: 0.9913 - val_loss: 0.0367\n",
            "Epoch 6/100\n",
            "\u001b[1m1500/1500\u001b[0m \u001b[32m━━━━━━━━━━━━━━━━━━━━\u001b[0m\u001b[37m\u001b[0m \u001b[1m0s\u001b[0m 62ms/step - accuracy: 0.9952 - loss: 0.0147\n",
            "Epoch 6: val_accuracy did not improve from 0.99133\n",
            "\u001b[1m1500/1500\u001b[0m \u001b[32m━━━━━━━━━━━━━━━━━━━━\u001b[0m\u001b[37m\u001b[0m \u001b[1m143s\u001b[0m 67ms/step - accuracy: 0.9952 - loss: 0.0147 - val_accuracy: 0.9907 - val_loss: 0.0378\n",
            "Epoch 7/100\n",
            "\u001b[1m1500/1500\u001b[0m \u001b[32m━━━━━━━━━━━━━━━━━━━━\u001b[0m\u001b[37m\u001b[0m \u001b[1m0s\u001b[0m 62ms/step - accuracy: 0.9960 - loss: 0.0136\n",
            "Epoch 7: val_accuracy did not improve from 0.99133\n",
            "\u001b[1m1500/1500\u001b[0m \u001b[32m━━━━━━━━━━━━━━━━━━━━\u001b[0m\u001b[37m\u001b[0m \u001b[1m140s\u001b[0m 65ms/step - accuracy: 0.9960 - loss: 0.0136 - val_accuracy: 0.9894 - val_loss: 0.0432\n",
            "Epoch 8/100\n",
            "\u001b[1m1499/1500\u001b[0m \u001b[32m━━━━━━━━━━━━━━━━━━━\u001b[0m\u001b[37m━\u001b[0m \u001b[1m0s\u001b[0m 64ms/step - accuracy: 0.9953 - loss: 0.0143\n",
            "Epoch 8: val_accuracy did not improve from 0.99133\n",
            "\u001b[1m1500/1500\u001b[0m \u001b[32m━━━━━━━━━━━━━━━━━━━━\u001b[0m\u001b[37m\u001b[0m \u001b[1m102s\u001b[0m 68ms/step - accuracy: 0.9953 - loss: 0.0143 - val_accuracy: 0.9909 - val_loss: 0.0459\n",
            "Epoch 9/100\n",
            "\u001b[1m1500/1500\u001b[0m \u001b[32m━━━━━━━━━━━━━━━━━━━━\u001b[0m\u001b[37m\u001b[0m \u001b[1m0s\u001b[0m 60ms/step - accuracy: 0.9975 - loss: 0.0079\n",
            "Epoch 9: val_accuracy did not improve from 0.99133\n",
            "\u001b[1m1500/1500\u001b[0m \u001b[32m━━━━━━━━━━━━━━━━━━━━\u001b[0m\u001b[37m\u001b[0m \u001b[1m135s\u001b[0m 63ms/step - accuracy: 0.9975 - loss: 0.0079 - val_accuracy: 0.9904 - val_loss: 0.0412\n",
            "Epoch 10/100\n",
            "\u001b[1m1500/1500\u001b[0m \u001b[32m━━━━━━━━━━━━━━━━━━━━\u001b[0m\u001b[37m\u001b[0m \u001b[1m0s\u001b[0m 59ms/step - accuracy: 0.9979 - loss: 0.0076\n",
            "Epoch 10: val_accuracy did not improve from 0.99133\n",
            "\u001b[1m1500/1500\u001b[0m \u001b[32m━━━━━━━━━━━━━━━━━━━━\u001b[0m\u001b[37m\u001b[0m \u001b[1m97s\u001b[0m 64ms/step - accuracy: 0.9979 - loss: 0.0076 - val_accuracy: 0.9883 - val_loss: 0.0504\n",
            "Epoch 11/100\n",
            "\u001b[1m1500/1500\u001b[0m \u001b[32m━━━━━━━━━━━━━━━━━━━━\u001b[0m\u001b[37m\u001b[0m \u001b[1m0s\u001b[0m 61ms/step - accuracy: 0.9972 - loss: 0.0097\n",
            "Epoch 11: val_accuracy did not improve from 0.99133\n",
            "\u001b[1m1500/1500\u001b[0m \u001b[32m━━━━━━━━━━━━━━━━━━━━\u001b[0m\u001b[37m\u001b[0m \u001b[1m102s\u001b[0m 68ms/step - accuracy: 0.9972 - loss: 0.0097 - val_accuracy: 0.9898 - val_loss: 0.0398\n",
            "Epoch 12/100\n",
            "\u001b[1m1500/1500\u001b[0m \u001b[32m━━━━━━━━━━━━━━━━━━━━\u001b[0m\u001b[37m\u001b[0m \u001b[1m0s\u001b[0m 61ms/step - accuracy: 0.9969 - loss: 0.0095\n",
            "Epoch 12: val_accuracy did not improve from 0.99133\n",
            "\u001b[1m1500/1500\u001b[0m \u001b[32m━━━━━━━━━━━━━━━━━━━━\u001b[0m\u001b[37m\u001b[0m \u001b[1m138s\u001b[0m 65ms/step - accuracy: 0.9969 - loss: 0.0095 - val_accuracy: 0.9894 - val_loss: 0.0434\n",
            "Epoch 13/100\n",
            "\u001b[1m1500/1500\u001b[0m \u001b[32m━━━━━━━━━━━━━━━━━━━━\u001b[0m\u001b[37m\u001b[0m \u001b[1m0s\u001b[0m 59ms/step - accuracy: 0.9984 - loss: 0.0060\n",
            "Epoch 13: val_accuracy improved from 0.99133 to 0.99200, saving model to /content/drive/MyDrive/Colab Notebooks/Practce_HandsOn_ML/model_13_0.992.hdf5.keras\n",
            "\u001b[1m1500/1500\u001b[0m \u001b[32m━━━━━━━━━━━━━━━━━━━━\u001b[0m\u001b[37m\u001b[0m \u001b[1m140s\u001b[0m 64ms/step - accuracy: 0.9984 - loss: 0.0060 - val_accuracy: 0.9920 - val_loss: 0.0424\n",
            "Epoch 13: early stopping\n"
          ]
        },
        {
          "output_type": "execute_result",
          "data": {
            "text/plain": [
              "<keras.src.callbacks.history.History at 0x7a404846e830>"
            ]
          },
          "metadata": {},
          "execution_count": 15
        }
      ]
    },
    {
      "cell_type": "code",
      "source": [],
      "metadata": {
        "id": "be6451bfXLc7"
      },
      "execution_count": null,
      "outputs": []
    }
  ]
}